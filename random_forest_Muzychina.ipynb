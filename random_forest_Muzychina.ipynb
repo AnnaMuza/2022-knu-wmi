{
 "cells": [
  {
   "cell_type": "code",
   "execution_count": 1,
   "metadata": {},
   "outputs": [],
   "source": [
    "import os\n",
    "import glob\n",
    "import pywt\n",
    "import pywt.data\n",
    "import numpy as np\n",
    "import pandas as pd\n",
    "import seaborn as sns\n",
    "from random import randint\n",
    "from sklearn import metrics\n",
    "import matplotlib.pyplot as plt\n",
    "from sklearn.decomposition import PCA\n",
    "from sklearn.preprocessing import StandardScaler\n",
    "from sklearn.ensemble import RandomForestClassifier\n",
    "from sklearn.metrics import classification_report, confusion_matrix"
   ]
  },
  {
   "cell_type": "code",
   "execution_count": 2,
   "metadata": {},
   "outputs": [],
   "source": [
    "actvs = ('brushteeth', 'cook', 'drink', 'getintobed', 'nothing', 'sitdown_chair', 'sitdown_sofa',\n",
    "         'sleeping', 'standup_chair', 'standup_sofa', 'walk', 'washingdishes')\n",
    "\n",
    "actvs_cur = ('nothing', 'walk', 'brushteeth')\n",
    "\n",
    "path_train = os.getcwd() + \"\\PCA_train_csv\"\n",
    "path_test = os.getcwd() + \"\\PCA_test_csv\"\n",
    "\n",
    "pca_train = []\n",
    "pca_test = []\n",
    "\n",
    "\n",
    "for act in actvs_cur:\n",
    "    lst_train = glob.glob(f'PCA_train_csv/{act}*')\n",
    "    lst_test = glob.glob(f'PCA_test_csv/{act}*')\n",
    "\n",
    "    for f in lst_train:\n",
    "        fname = os.path.basename(f)\n",
    "        fpath = os.path.join(path_train, fname)\n",
    "        pca_train.append(pd.read_csv(fpath))\n",
    "\n",
    "    for f in lst_test:\n",
    "        fname = os.path.basename(f)\n",
    "        fpath = os.path.join(path_test, fname)\n",
    "        pca_test.append(pd.read_csv(fpath))"
   ]
  },
  {
   "cell_type": "code",
   "execution_count": 3,
   "metadata": {},
   "outputs": [],
   "source": [
    "# 100Hz\n",
    "N = 7\n",
    "L = 15\n",
    "scales = [2 ** (n + (l / L)) for n in range(N) for l in range(L)]\n",
    "\n",
    "matr_train = []\n",
    "matr_test = []\n",
    "\n",
    "\n",
    "for df in pca_train:\n",
    "    coef, freqs = pywt.cwt(df['0'], scales=scales, wavelet='mexh')   # wavelet='morl'\n",
    "    m = coef\n",
    "    coef, freqs = pywt.cwt(df['1'], scales=scales, wavelet='mexh')   # wavelet='morl'\n",
    "    m = np.add(m, coef)\n",
    "    coef, freqs = pywt.cwt(df['2'], scales=scales, wavelet='mexh')   # wavelet='morl'\n",
    "    m = np.add(m, coef)\n",
    "    matr_train.append(m)\n",
    "\n",
    "\n",
    "for df in pca_test:\n",
    "    coef, freqs = pywt.cwt(df['0'], scales=scales, wavelet='mexh')   # wavelet='morl'\n",
    "    m = coef\n",
    "    coef, freqs = pywt.cwt(df['1'], scales=scales, wavelet='mexh')   # wavelet='morl'\n",
    "    m = np.add(m, coef)\n",
    "    coef, freqs = pywt.cwt(df['2'], scales=scales, wavelet='mexh')   # wavelet='morl'\n",
    "    m = np.add(m, coef)\n",
    "    matr_test.append(m)"
   ]
  },
  {
   "cell_type": "code",
   "execution_count": 4,
   "metadata": {},
   "outputs": [],
   "source": [
    "l_train = [m.shape[1] for m in matr_train]\n",
    "l_test = [m.shape[1] for m in matr_test]\n",
    "\n",
    "ptrn = matr_train[0]\n",
    "med = 300\n",
    "\n",
    "\n",
    "for i, m in enumerate(matr_train):\n",
    "    c = m.shape[1]\n",
    "    if c < med:\n",
    "        d = med - c\n",
    "        matr_train[i] = np.concatenate((m, ptrn[:, :d]), axis=1)\n",
    "    if c > med:\n",
    "        matr_train[i] = m[:, :med]\n",
    "\n",
    "\n",
    "for i, m in enumerate(matr_test):\n",
    "    c = m.shape[1]\n",
    "    if c < med:\n",
    "        d = med - c\n",
    "        matr_test[i] = np.concatenate((m, ptrn[:, :d]), axis=1)\n",
    "    if c > med:\n",
    "        matr_test[i] = m[:, :med]"
   ]
  },
  {
   "cell_type": "code",
   "execution_count": 5,
   "metadata": {},
   "outputs": [],
   "source": [
    "vect_train = [m.flatten() for m in matr_train]\n",
    "vect_test = [m.flatten() for m in matr_test]\n",
    "\n",
    "df_train = pd.DataFrame(vect_train)\n",
    "df_test = pd.DataFrame(vect_test)"
   ]
  },
  {
   "cell_type": "code",
   "execution_count": 6,
   "metadata": {},
   "outputs": [],
   "source": [
    "y_train = [i for i in (0, 1, 2) for _ in range(30)]\n",
    "y_test = [i for i in (0, 1, 2) for _ in range(10)]"
   ]
  },
  {
   "cell_type": "code",
   "execution_count": 17,
   "metadata": {},
   "outputs": [
    {
     "data": {
      "text/plain": [
       "0.5"
      ]
     },
     "execution_count": 17,
     "metadata": {},
     "output_type": "execute_result"
    }
   ],
   "source": [
    "# param = {'bootstrap': True, 'criterion': 'entropy', 'max_depth': 6, 'max_features': 'auto', 'min_samples_leaf': 1, 'min_samples_split': 2, 'n_estimators': 100}\n",
    "model = RandomForestClassifier()\n",
    "res = model.fit(df_train, y_train)\n",
    "pred = res.predict(df_test)\n",
    "res.score(df_test, y_test)"
   ]
  },
  {
   "cell_type": "code",
   "execution_count": 19,
   "metadata": {},
   "outputs": [
    {
     "data": {
      "image/png": "[encoded data removed]",
      "text/plain": [
       "<Figure size 1080x1080 with 2 Axes>"
      ]
     },
     "metadata": {
      "needs_background": "light"
     },
     "output_type": "display_data"
    }
   ],
   "source": [
    "plt.figure(figsize = (15, 15))\n",
    "cf_matrix = confusion_matrix(y_test, pred)\n",
    "ax = sns.heatmap(cf_matrix, annot=True, cmap='Blues')\n",
    "\n",
    "ax.set_title('Confusion Matrix\\n');\n",
    "ax.set_xlabel('\\nPredicted Values')\n",
    "ax.set_ylabel('Actual Values ');\n",
    "\n",
    "ax.xaxis.set_ticklabels(actvs_cur)\n",
    "ax.yaxis.set_ticklabels(actvs_cur, rotation=90, va=\"center\")\n",
    "plt.show()"
   ]
  }
 ],
 "metadata": {
  "interpreter": {
   "hash": "5c0372ed38b372118c24adb00d45654d76c8d10261533c5724e3f5fc1d75489a"
  },
  "kernelspec": {
   "display_name": "Python 3.8.5 64-bit",
   "language": "python",
   "name": "python3"
  },
  "language_info": {
   "codemirror_mode": {
    "name": "ipython",
    "version": 3
   },
   "file_extension": ".py",
   "mimetype": "text/x-python",
   "name": "python",
   "nbconvert_exporter": "python",
   "pygments_lexer": "ipython3",
   "version": "3.8.5"
  },
  "orig_nbformat": 4
 },
 "nbformat": 4,
 "nbformat_minor": 2
}
